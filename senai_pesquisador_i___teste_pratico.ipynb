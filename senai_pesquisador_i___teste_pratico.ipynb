{
  "nbformat": 4,
  "nbformat_minor": 0,
  "metadata": {
    "colab": {
      "name": "senai_pesquisador_i_-_teste_pratico.ipynb",
      "provenance": [],
      "collapsed_sections": [],
      "authorship_tag": "ABX9TyMWiBy70g77K40ETyYfemjK",
      "include_colab_link": true
    },
    "kernelspec": {
      "name": "python3",
      "display_name": "Python 3"
    },
    "language_info": {
      "name": "python"
    }
  },
  "cells": [
    {
      "cell_type": "markdown",
      "metadata": {
        "id": "view-in-github",
        "colab_type": "text"
      },
      "source": [
        "<a href=\"https://colab.research.google.com/github/caiouc/senai_pesquisador/blob/main/senai_pesquisador_i___teste_pratico.ipynb\" target=\"_parent\"><img src=\"https://colab.research.google.com/assets/colab-badge.svg\" alt=\"Open In Colab\"/></a>"
      ]
    },
    {
      "cell_type": "code",
      "metadata": {
        "id": "EPm5Ovt-vQGl"
      },
      "source": [
        "import numpy as np\n",
        "import pandas as pd\n",
        "from sklearn.model_selection import train_test_split\n",
        "from sklearn.linear_model import LogisticRegression\n",
        "from sklearn.metrics import accuracy_score, confusion_matrix, classification_report\n",
        "from google.colab import drive"
      ],
      "execution_count": 1,
      "outputs": []
    },
    {
      "cell_type": "code",
      "metadata": {
        "colab": {
          "base_uri": "https://localhost:8080/"
        },
        "id": "RPWflPCexuOg",
        "outputId": "d38e45cb-7815-4b93-eb13-2a3f1b4a94a9"
      },
      "source": [
        "drive.mount('/content/drive/')"
      ],
      "execution_count": 2,
      "outputs": [
        {
          "output_type": "stream",
          "name": "stdout",
          "text": [
            "Mounted at /content/drive/\n"
          ]
        }
      ]
    },
    {
      "cell_type": "code",
      "metadata": {
        "colab": {
          "base_uri": "https://localhost:8080/"
        },
        "id": "0nT5WZ03yJ3U",
        "outputId": "427cdac1-476d-4d24-c1e3-efdb61d7bd3c"
      },
      "source": [
        "!ls drive/MyDrive/"
      ],
      "execution_count": 3,
      "outputs": [
        {
          "output_type": "stream",
          "name": "stdout",
          "text": [
            "'Colab Notebooks'   X_test.csv\t X_train.csv   y_test.csv   y_train.csv\n"
          ]
        }
      ]
    },
    {
      "cell_type": "code",
      "metadata": {
        "id": "BqKSMka4wFIK"
      },
      "source": [
        "x_train = pd.read_csv('drive/MyDrive/X_train.csv')\n",
        "y_train = pd.read_csv('drive/MyDrive/y_train.csv')\n",
        "x_test = pd.read_csv('drive/MyDrive/X_test.csv')\n",
        "y_test = pd.read_csv('drive/MyDrive/y_test.csv')\n",
        "\n"
      ],
      "execution_count": 4,
      "outputs": []
    },
    {
      "cell_type": "code",
      "metadata": {
        "colab": {
          "base_uri": "https://localhost:8080/"
        },
        "id": "MgCt_DfH03tS",
        "outputId": "8b0e3fa2-0c74-4d81-8719-49ed489f2e3b"
      },
      "source": [
        "print(x_train)\n",
        "print(y_train)\n",
        "print(x_test)\n",
        "print(y_test)"
      ],
      "execution_count": 5,
      "outputs": [
        {
          "output_type": "stream",
          "name": "stdout",
          "text": [
            "          #1       #2       #3       #4  ...     #167     #168     #169     #170\n",
            "0    0.92857  0.92865  0.92879  0.92883  ...  0.93180  0.93152  0.93130  0.93147\n",
            "1    0.70855  0.70900  0.70940  0.70945  ...  0.84242  0.84219  0.84196  0.84216\n",
            "2    0.99449  0.99553  0.99597  0.99610  ...  1.02246  1.02214  1.02166  1.02171\n",
            "3    0.69763  0.69820  0.69847  0.69874  ...  0.78242  0.78203  0.78172  0.78200\n",
            "4    0.66648  0.66671  0.66671  0.66676  ...  0.71654  0.71633  0.71613  0.71640\n",
            "..       ...      ...      ...      ...  ...      ...      ...      ...      ...\n",
            "207  0.85093  0.85186  0.85197  0.85240  ...  0.89159  0.89098  0.89072  0.89086\n",
            "208  1.09716  1.09700  1.09710  1.09783  ...  1.10814  1.10777  1.10747  1.10759\n",
            "209  0.67897  0.67948  0.67946  0.67952  ...  0.73799  0.73779  0.73769  0.73796\n",
            "210  0.69855  0.69907  0.69915  0.69950  ...  0.78372  0.78356  0.78326  0.78348\n",
            "211  1.10769  1.10867  1.10853  1.10894  ...  1.12920  1.12858  1.12828  1.12847\n",
            "\n",
            "[212 rows x 170 columns]\n",
            "     Umidade\n",
            "0      11.73\n",
            "1      12.55\n",
            "2      14.04\n",
            "3      14.30\n",
            "4      12.90\n",
            "..       ...\n",
            "207    12.98\n",
            "208    12.50\n",
            "209    12.96\n",
            "210    13.89\n",
            "211    13.42\n",
            "\n",
            "[212 rows x 1 columns]\n",
            "          #1       #2       #3       #4  ...     #167     #168     #169     #170\n",
            "0    1.00064  1.00048  1.00086  1.00042  ...  1.03131  1.03101  1.03048  1.03067\n",
            "1    1.13422  1.13446  1.13474  1.13496  ...  1.20858  1.20788  1.20726  1.20758\n",
            "2    0.81601  0.81671  0.81700  0.81717  ...  0.85639  0.85607  0.85551  0.85571\n",
            "3    0.66555  0.66578  0.66601  0.66591  ...  0.71306  0.71291  0.71268  0.71297\n",
            "4    0.99133  0.99167  0.99178  0.99200  ...  1.00822  1.00784  1.00753  1.00783\n",
            "..       ...      ...      ...      ...  ...      ...      ...      ...      ...\n",
            "100  1.10181  1.10187  1.10214  1.10180  ...  1.15166  1.15137  1.15085  1.15087\n",
            "101  0.72183  0.72192  0.72222  0.72226  ...  0.80469  0.80441  0.80413  0.80434\n",
            "102  1.06408  1.06457  1.06498  1.06538  ...  1.11415  1.11371  1.11316  1.11325\n",
            "103  1.14910  1.14970  1.14929  1.14970  ...  1.25104  1.25013  1.24957  1.25004\n",
            "104  0.66528  0.66572  0.66578  0.66592  ...  0.71397  0.71377  0.71355  0.71387\n",
            "\n",
            "[105 rows x 170 columns]\n",
            "     Umidade\n",
            "0      12.42\n",
            "1      14.21\n",
            "2      13.16\n",
            "3      13.20\n",
            "4      11.11\n",
            "..       ...\n",
            "100    14.22\n",
            "101    12.45\n",
            "102    14.50\n",
            "103    13.38\n",
            "104    13.13\n",
            "\n",
            "[105 rows x 1 columns]\n"
          ]
        }
      ]
    },
    {
      "cell_type": "code",
      "metadata": {
        "colab": {
          "base_uri": "https://localhost:8080/"
        },
        "id": "N7IoJsRk1ASQ",
        "outputId": "efd788ed-e886-4e01-8d78-a6371a9deb4d"
      },
      "source": [
        "x_train_x1 = x_train['#11']\n",
        "x_train_x2 = x_train['#101']\n",
        "#y_train_y = y_train['Umidade']\n",
        "print(x_train_x1)\n",
        "print(x_train_x2)\n",
        "#print(y_train_y)"
      ],
      "execution_count": 13,
      "outputs": [
        {
          "output_type": "stream",
          "name": "stdout",
          "text": [
            "0      0.92998\n",
            "1      0.70812\n",
            "2      0.99820\n",
            "3      0.69837\n",
            "4      0.66644\n",
            "        ...   \n",
            "207    0.85409\n",
            "208    1.09879\n",
            "209    0.67895\n",
            "210    0.69872\n",
            "211    1.10991\n",
            "Name: #11, Length: 212, dtype: float64\n",
            "0      0.92090\n",
            "1      0.72601\n",
            "2      0.99117\n",
            "3      0.70594\n",
            "4      0.66577\n",
            "        ...   \n",
            "207    0.84702\n",
            "208    1.09048\n",
            "209    0.68114\n",
            "210    0.70703\n",
            "211    1.10379\n",
            "Name: #101, Length: 212, dtype: float64\n"
          ]
        }
      ]
    },
    {
      "cell_type": "code",
      "metadata": {
        "colab": {
          "base_uri": "https://localhost:8080/"
        },
        "id": "fLlnVjWw22En",
        "outputId": "8873047c-6b1f-47f9-b15f-00bc7aea970a"
      },
      "source": [
        "x_test_x1 = x_test['#11']\n",
        "x_test_x2 = x_test['#101']\n",
        "#y_test = y_test['Umidade']\n",
        "print(x_test_x1)\n",
        "print(x_test_x2)\n",
        "#print(y_test_y)"
      ],
      "execution_count": 16,
      "outputs": [
        {
          "output_type": "stream",
          "name": "stdout",
          "text": [
            "0      1.00196\n",
            "1      1.13546\n",
            "2      0.81914\n",
            "3      0.66567\n",
            "4      0.99374\n",
            "        ...   \n",
            "100    1.10281\n",
            "101    0.72179\n",
            "102    1.06652\n",
            "103    1.14968\n",
            "104    0.66578\n",
            "Name: #11, Length: 105, dtype: float64\n",
            "0      0.99993\n",
            "1      1.13780\n",
            "2      0.81327\n",
            "3      0.66455\n",
            "4      0.98829\n",
            "        ...   \n",
            "100    1.10176\n",
            "101    0.72350\n",
            "102    1.06690\n",
            "103    1.15051\n",
            "104    0.66450\n",
            "Name: #101, Length: 105, dtype: float64\n"
          ]
        }
      ]
    },
    {
      "cell_type": "code",
      "metadata": {
        "colab": {
          "base_uri": "https://localhost:8080/"
        },
        "id": "9klMY2G5CxMW",
        "outputId": "f57e73b5-04bb-47f7-e5b0-9afc9c93d85b"
      },
      "source": [
        "x_train_inicial = x_train[['#11','#101']]\n",
        "x_test_inicial = x_test[['#11','#101']]\n",
        "#treino_inicial = pd.DataFrame({x_train['#11'],\n",
        "#                                      x_train['#101'],\n",
        "#                              y_train['Umidade']})   \n",
        "print(x_train_inicial)\n",
        "print(x_test_inicial)\n",
        "#print(treino_inicial)\n"
      ],
      "execution_count": 20,
      "outputs": [
        {
          "output_type": "stream",
          "name": "stdout",
          "text": [
            "         #11     #101\n",
            "0    0.92998  0.92090\n",
            "1    0.70812  0.72601\n",
            "2    0.99820  0.99117\n",
            "3    0.69837  0.70594\n",
            "4    0.66644  0.66577\n",
            "..       ...      ...\n",
            "207  0.85409  0.84702\n",
            "208  1.09879  1.09048\n",
            "209  0.67895  0.68114\n",
            "210  0.69872  0.70703\n",
            "211  1.10991  1.10379\n",
            "\n",
            "[212 rows x 2 columns]\n",
            "         #11     #101\n",
            "0    1.00196  0.99993\n",
            "1    1.13546  1.13780\n",
            "2    0.81914  0.81327\n",
            "3    0.66567  0.66455\n",
            "4    0.99374  0.98829\n",
            "..       ...      ...\n",
            "100  1.10281  1.10176\n",
            "101  0.72179  0.72350\n",
            "102  1.06652  1.06690\n",
            "103  1.14968  1.15051\n",
            "104  0.66578  0.66450\n",
            "\n",
            "[105 rows x 2 columns]\n"
          ]
        }
      ]
    },
    {
      "cell_type": "markdown",
      "metadata": {
        "id": "wUVN3xJb39sO"
      },
      "source": [
        "Executar Limpeza e Normalização dos Dados"
      ]
    },
    {
      "cell_type": "code",
      "metadata": {
        "colab": {
          "base_uri": "https://localhost:8080/"
        },
        "id": "xEp6Kwx_338k",
        "outputId": "10252823-f948-485d-8ff4-38c42ad9bb80"
      },
      "source": [
        "#Executar Limpeza e Normalização dos Dados\n",
        "x_train_final = x_train[['#11','#101']]\n",
        "x_test_final = x_test[['#11','#101']]\n",
        "print(x_train_final)\n",
        "print(x_test_final)"
      ],
      "execution_count": 23,
      "outputs": [
        {
          "output_type": "stream",
          "name": "stdout",
          "text": [
            "         #11     #101\n",
            "0    0.92998  0.92090\n",
            "1    0.70812  0.72601\n",
            "2    0.99820  0.99117\n",
            "3    0.69837  0.70594\n",
            "4    0.66644  0.66577\n",
            "..       ...      ...\n",
            "207  0.85409  0.84702\n",
            "208  1.09879  1.09048\n",
            "209  0.67895  0.68114\n",
            "210  0.69872  0.70703\n",
            "211  1.10991  1.10379\n",
            "\n",
            "[212 rows x 2 columns]\n",
            "         #11     #101\n",
            "0    1.00196  0.99993\n",
            "1    1.13546  1.13780\n",
            "2    0.81914  0.81327\n",
            "3    0.66567  0.66455\n",
            "4    0.99374  0.98829\n",
            "..       ...      ...\n",
            "100  1.10281  1.10176\n",
            "101  0.72179  0.72350\n",
            "102  1.06652  1.06690\n",
            "103  1.14968  1.15051\n",
            "104  0.66578  0.66450\n",
            "\n",
            "[105 rows x 2 columns]\n"
          ]
        }
      ]
    },
    {
      "cell_type": "code",
      "metadata": {
        "colab": {
          "base_uri": "https://localhost:8080/",
          "height": 370
        },
        "id": "D9h-IXOY3MMO",
        "outputId": "9cd75af1-503e-4a86-9df4-5310986b3881"
      },
      "source": [
        "logreg = LogisticRegression()\n",
        "logreg.fit(X_train_final, Y_train) #Realização do treinamento no dataset limpo e normalizado\n",
        "y_pred_logreg = logreg.predict(X_test_final) #Fazendo as prediçoes para o teste do modelo com base nos dados de treinamento\n",
        "print('A acurácia do treinamento de regressão é %s' % logreg.score(X_train, y_train)) #Acurácia do treinamento\n",
        "print('A acurácia do teste de regrssão é %s' % accuracy_score(y_pred_logreg, y_test)) #Acurácia do teste\n",
        "print(confusion_matrix(y_test, y_pred_logreg)) #Matriz de Confusão\n",
        "print(classification_report(y_test, y_pred_logreg)) #Relatório de Classificação"
      ],
      "execution_count": 48,
      "outputs": [
        {
          "output_type": "error",
          "ename": "ValueError",
          "evalue": "ignored",
          "traceback": [
            "\u001b[0;31m---------------------------------------------------------------------------\u001b[0m",
            "\u001b[0;31mValueError\u001b[0m                                Traceback (most recent call last)",
            "\u001b[0;32m<ipython-input-48-78b8b6e6fb4d>\u001b[0m in \u001b[0;36m<module>\u001b[0;34m()\u001b[0m\n\u001b[1;32m      1\u001b[0m \u001b[0mlogreg\u001b[0m \u001b[0;34m=\u001b[0m \u001b[0mLogisticRegression\u001b[0m\u001b[0;34m(\u001b[0m\u001b[0;34m)\u001b[0m\u001b[0;34m\u001b[0m\u001b[0;34m\u001b[0m\u001b[0m\n\u001b[0;32m----> 2\u001b[0;31m \u001b[0mlogreg\u001b[0m\u001b[0;34m.\u001b[0m\u001b[0mfit\u001b[0m\u001b[0;34m(\u001b[0m\u001b[0mX_train_final\u001b[0m\u001b[0;34m,\u001b[0m \u001b[0mY_train\u001b[0m\u001b[0;34m)\u001b[0m \u001b[0;31m#Realizando o treinamento\u001b[0m\u001b[0;34m\u001b[0m\u001b[0;34m\u001b[0m\u001b[0m\n\u001b[0m\u001b[1;32m      3\u001b[0m \u001b[0my_pred_logreg\u001b[0m \u001b[0;34m=\u001b[0m \u001b[0mlogreg\u001b[0m\u001b[0;34m.\u001b[0m\u001b[0mpredict\u001b[0m\u001b[0;34m(\u001b[0m\u001b[0mX_test_final\u001b[0m\u001b[0;34m)\u001b[0m \u001b[0;31m#Fazeno as prediçoes para o teste do modelo com base nos dados de treinamento\u001b[0m\u001b[0;34m\u001b[0m\u001b[0;34m\u001b[0m\u001b[0m\n\u001b[1;32m      4\u001b[0m \u001b[0mprint\u001b[0m\u001b[0;34m(\u001b[0m\u001b[0;34m'A acurácia do treinamento de regressão é %s'\u001b[0m \u001b[0;34m%\u001b[0m \u001b[0mlogreg\u001b[0m\u001b[0;34m.\u001b[0m\u001b[0mscore\u001b[0m\u001b[0;34m(\u001b[0m\u001b[0mX_train\u001b[0m\u001b[0;34m,\u001b[0m \u001b[0my_train\u001b[0m\u001b[0;34m)\u001b[0m\u001b[0;34m)\u001b[0m \u001b[0;31m#Acurácia do treinamento\u001b[0m\u001b[0;34m\u001b[0m\u001b[0;34m\u001b[0m\u001b[0m\n\u001b[1;32m      5\u001b[0m \u001b[0mprint\u001b[0m\u001b[0;34m(\u001b[0m\u001b[0;34m'A acurácia do teste de regrssão é %s'\u001b[0m \u001b[0;34m%\u001b[0m \u001b[0maccuracy_score\u001b[0m\u001b[0;34m(\u001b[0m\u001b[0my_pred_logreg\u001b[0m\u001b[0;34m,\u001b[0m \u001b[0my_test\u001b[0m\u001b[0;34m)\u001b[0m\u001b[0;34m)\u001b[0m \u001b[0;31m#Acurácia do teste\u001b[0m\u001b[0;34m\u001b[0m\u001b[0;34m\u001b[0m\u001b[0m\n",
            "\u001b[0;32m/usr/local/lib/python3.7/dist-packages/sklearn/linear_model/_logistic.py\u001b[0m in \u001b[0;36mfit\u001b[0;34m(self, X, y, sample_weight)\u001b[0m\n\u001b[1;32m   1525\u001b[0m \u001b[0;34m\u001b[0m\u001b[0m\n\u001b[1;32m   1526\u001b[0m         X, y = check_X_y(X, y, accept_sparse='csr', dtype=_dtype, order=\"C\",\n\u001b[0;32m-> 1527\u001b[0;31m                          accept_large_sparse=solver != 'liblinear')\n\u001b[0m\u001b[1;32m   1528\u001b[0m         \u001b[0mcheck_classification_targets\u001b[0m\u001b[0;34m(\u001b[0m\u001b[0my\u001b[0m\u001b[0;34m)\u001b[0m\u001b[0;34m\u001b[0m\u001b[0;34m\u001b[0m\u001b[0m\n\u001b[1;32m   1529\u001b[0m         \u001b[0mself\u001b[0m\u001b[0;34m.\u001b[0m\u001b[0mclasses_\u001b[0m \u001b[0;34m=\u001b[0m \u001b[0mnp\u001b[0m\u001b[0;34m.\u001b[0m\u001b[0munique\u001b[0m\u001b[0;34m(\u001b[0m\u001b[0my\u001b[0m\u001b[0;34m)\u001b[0m\u001b[0;34m\u001b[0m\u001b[0;34m\u001b[0m\u001b[0m\n",
            "\u001b[0;32m/usr/local/lib/python3.7/dist-packages/sklearn/utils/validation.py\u001b[0m in \u001b[0;36mcheck_X_y\u001b[0;34m(X, y, accept_sparse, accept_large_sparse, dtype, order, copy, force_all_finite, ensure_2d, allow_nd, multi_output, ensure_min_samples, ensure_min_features, y_numeric, warn_on_dtype, estimator)\u001b[0m\n\u001b[1;32m    753\u001b[0m                     \u001b[0mensure_min_features\u001b[0m\u001b[0;34m=\u001b[0m\u001b[0mensure_min_features\u001b[0m\u001b[0;34m,\u001b[0m\u001b[0;34m\u001b[0m\u001b[0;34m\u001b[0m\u001b[0m\n\u001b[1;32m    754\u001b[0m                     \u001b[0mwarn_on_dtype\u001b[0m\u001b[0;34m=\u001b[0m\u001b[0mwarn_on_dtype\u001b[0m\u001b[0;34m,\u001b[0m\u001b[0;34m\u001b[0m\u001b[0;34m\u001b[0m\u001b[0m\n\u001b[0;32m--> 755\u001b[0;31m                     estimator=estimator)\n\u001b[0m\u001b[1;32m    756\u001b[0m     \u001b[0;32mif\u001b[0m \u001b[0mmulti_output\u001b[0m\u001b[0;34m:\u001b[0m\u001b[0;34m\u001b[0m\u001b[0;34m\u001b[0m\u001b[0m\n\u001b[1;32m    757\u001b[0m         y = check_array(y, 'csr', force_all_finite=True, ensure_2d=False,\n",
            "\u001b[0;32m/usr/local/lib/python3.7/dist-packages/sklearn/utils/validation.py\u001b[0m in \u001b[0;36mcheck_array\u001b[0;34m(array, accept_sparse, accept_large_sparse, dtype, order, copy, force_all_finite, ensure_2d, allow_nd, ensure_min_samples, ensure_min_features, warn_on_dtype, estimator)\u001b[0m\n\u001b[1;32m    576\u001b[0m         \u001b[0;32mif\u001b[0m \u001b[0mforce_all_finite\u001b[0m\u001b[0;34m:\u001b[0m\u001b[0;34m\u001b[0m\u001b[0;34m\u001b[0m\u001b[0m\n\u001b[1;32m    577\u001b[0m             _assert_all_finite(array,\n\u001b[0;32m--> 578\u001b[0;31m                                allow_nan=force_all_finite == 'allow-nan')\n\u001b[0m\u001b[1;32m    579\u001b[0m \u001b[0;34m\u001b[0m\u001b[0m\n\u001b[1;32m    580\u001b[0m     \u001b[0;32mif\u001b[0m \u001b[0mensure_min_samples\u001b[0m \u001b[0;34m>\u001b[0m \u001b[0;36m0\u001b[0m\u001b[0;34m:\u001b[0m\u001b[0;34m\u001b[0m\u001b[0;34m\u001b[0m\u001b[0m\n",
            "\u001b[0;32m/usr/local/lib/python3.7/dist-packages/sklearn/utils/validation.py\u001b[0m in \u001b[0;36m_assert_all_finite\u001b[0;34m(X, allow_nan, msg_dtype)\u001b[0m\n\u001b[1;32m     58\u001b[0m                     \u001b[0mmsg_err\u001b[0m\u001b[0;34m.\u001b[0m\u001b[0mformat\u001b[0m\u001b[0;34m\u001b[0m\u001b[0;34m\u001b[0m\u001b[0m\n\u001b[1;32m     59\u001b[0m                     (type_err,\n\u001b[0;32m---> 60\u001b[0;31m                      msg_dtype if msg_dtype is not None else X.dtype)\n\u001b[0m\u001b[1;32m     61\u001b[0m             )\n\u001b[1;32m     62\u001b[0m     \u001b[0;31m# for object dtype data, we only check for NaNs (GH-13254)\u001b[0m\u001b[0;34m\u001b[0m\u001b[0;34m\u001b[0m\u001b[0;34m\u001b[0m\u001b[0m\n",
            "\u001b[0;31mValueError\u001b[0m: Input contains NaN, infinity or a value too large for dtype('float64')."
          ]
        }
      ]
    }
  ]
}