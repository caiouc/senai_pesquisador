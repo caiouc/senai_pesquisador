{
  "nbformat": 4,
  "nbformat_minor": 0,
  "metadata": {
    "colab": {
      "name": "senai_pesquisador_i_-_teste_pratico.ipynb",
      "provenance": [],
      "collapsed_sections": [],
      "authorship_tag": "ABX9TyP0p6rojR3iZoQThSsqKih1",
      "include_colab_link": true
    },
    "kernelspec": {
      "name": "python3",
      "display_name": "Python 3"
    },
    "language_info": {
      "name": "python"
    }
  },
  "cells": [
    {
      "cell_type": "markdown",
      "metadata": {
        "id": "view-in-github",
        "colab_type": "text"
      },
      "source": [
        "<a href=\"https://colab.research.google.com/github/caiouc/senai_pesquisador/blob/main/senai_pesquisador_i___teste_pratico.ipynb\" target=\"_parent\"><img src=\"https://colab.research.google.com/assets/colab-badge.svg\" alt=\"Open In Colab\"/></a>"
      ]
    },
    {
      "cell_type": "code",
      "metadata": {
        "id": "EPm5Ovt-vQGl"
      },
      "source": [
        "# Importar de bibliotecas aplicáveis ao case\n",
        "import numpy as np\n",
        "import pandas as pd\n",
        "from sklearn import preprocessing\n",
        "from sklearn import utils\n",
        "from sklearn.linear_model import LinearRegression\n",
        "from sklearn.metrics import accuracy_score, confusion_matrix, classification_report\n",
        "import matplotlib.pyplot as plt\n",
        "from google.colab import drive"
      ],
      "execution_count": 111,
      "outputs": []
    },
    {
      "cell_type": "code",
      "metadata": {
        "colab": {
          "base_uri": "https://localhost:8080/"
        },
        "id": "RPWflPCexuOg",
        "outputId": "1982f710-aea0-4ad4-bfbd-f64c6f8b339a"
      },
      "source": [
        "drive.mount('/content/drive/')"
      ],
      "execution_count": 112,
      "outputs": [
        {
          "output_type": "stream",
          "name": "stdout",
          "text": [
            "Drive already mounted at /content/drive/; to attempt to forcibly remount, call drive.mount(\"/content/drive/\", force_remount=True).\n"
          ]
        }
      ]
    },
    {
      "cell_type": "code",
      "metadata": {
        "colab": {
          "base_uri": "https://localhost:8080/"
        },
        "id": "BqKSMka4wFIK",
        "outputId": "7f09b553-9b4c-4bef-e261-055af4e18856"
      },
      "source": [
        "# Definir Datasets com base nos arquivos recebidos\n",
        "x_train = pd.read_csv('drive/MyDrive/X_train.csv')\n",
        "y_train = pd.read_csv('drive/MyDrive/y_train.csv')\n",
        "x_test = pd.read_csv('drive/MyDrive/X_test.csv')\n",
        "y_test = pd.read_csv('drive/MyDrive/y_test.csv')\n",
        "print(x_train)\n",
        "print(y_train)\n",
        "print(x_test)\n",
        "print(y_test)\n",
        "\n"
      ],
      "execution_count": 113,
      "outputs": [
        {
          "output_type": "stream",
          "name": "stdout",
          "text": [
            "          #1       #2       #3       #4  ...     #167     #168     #169     #170\n",
            "0    0.92857  0.92865  0.92879  0.92883  ...  0.93180  0.93152  0.93130  0.93147\n",
            "1    0.70855  0.70900  0.70940  0.70945  ...  0.84242  0.84219  0.84196  0.84216\n",
            "2    0.99449  0.99553  0.99597  0.99610  ...  1.02246  1.02214  1.02166  1.02171\n",
            "3    0.69763  0.69820  0.69847  0.69874  ...  0.78242  0.78203  0.78172  0.78200\n",
            "4    0.66648  0.66671  0.66671  0.66676  ...  0.71654  0.71633  0.71613  0.71640\n",
            "..       ...      ...      ...      ...  ...      ...      ...      ...      ...\n",
            "207  0.85093  0.85186  0.85197  0.85240  ...  0.89159  0.89098  0.89072  0.89086\n",
            "208  1.09716  1.09700  1.09710  1.09783  ...  1.10814  1.10777  1.10747  1.10759\n",
            "209  0.67897  0.67948  0.67946  0.67952  ...  0.73799  0.73779  0.73769  0.73796\n",
            "210  0.69855  0.69907  0.69915  0.69950  ...  0.78372  0.78356  0.78326  0.78348\n",
            "211  1.10769  1.10867  1.10853  1.10894  ...  1.12920  1.12858  1.12828  1.12847\n",
            "\n",
            "[212 rows x 170 columns]\n",
            "     Umidade\n",
            "0      11.73\n",
            "1      12.55\n",
            "2      14.04\n",
            "3      14.30\n",
            "4      12.90\n",
            "..       ...\n",
            "207    12.98\n",
            "208    12.50\n",
            "209    12.96\n",
            "210    13.89\n",
            "211    13.42\n",
            "\n",
            "[212 rows x 1 columns]\n",
            "          #1       #2       #3       #4  ...     #167     #168     #169     #170\n",
            "0    1.00064  1.00048  1.00086  1.00042  ...  1.03131  1.03101  1.03048  1.03067\n",
            "1    1.13422  1.13446  1.13474  1.13496  ...  1.20858  1.20788  1.20726  1.20758\n",
            "2    0.81601  0.81671  0.81700  0.81717  ...  0.85639  0.85607  0.85551  0.85571\n",
            "3    0.66555  0.66578  0.66601  0.66591  ...  0.71306  0.71291  0.71268  0.71297\n",
            "4    0.99133  0.99167  0.99178  0.99200  ...  1.00822  1.00784  1.00753  1.00783\n",
            "..       ...      ...      ...      ...  ...      ...      ...      ...      ...\n",
            "100  1.10181  1.10187  1.10214  1.10180  ...  1.15166  1.15137  1.15085  1.15087\n",
            "101  0.72183  0.72192  0.72222  0.72226  ...  0.80469  0.80441  0.80413  0.80434\n",
            "102  1.06408  1.06457  1.06498  1.06538  ...  1.11415  1.11371  1.11316  1.11325\n",
            "103  1.14910  1.14970  1.14929  1.14970  ...  1.25104  1.25013  1.24957  1.25004\n",
            "104  0.66528  0.66572  0.66578  0.66592  ...  0.71397  0.71377  0.71355  0.71387\n",
            "\n",
            "[105 rows x 170 columns]\n",
            "     Umidade\n",
            "0      12.42\n",
            "1      14.21\n",
            "2      13.16\n",
            "3      13.20\n",
            "4      11.11\n",
            "..       ...\n",
            "100    14.22\n",
            "101    12.45\n",
            "102    14.50\n",
            "103    13.38\n",
            "104    13.13\n",
            "\n",
            "[105 rows x 1 columns]\n"
          ]
        }
      ]
    },
    {
      "cell_type": "code",
      "metadata": {
        "colab": {
          "base_uri": "https://localhost:8080/"
        },
        "id": "fLlnVjWw22En",
        "outputId": "96caa249-ba6f-44ab-b75f-01cff5891598"
      },
      "source": [
        "# Selecionar as colunas dos dados que sejam relevantes ao case nos datasets de treinamento\n",
        "x_test_x1 = x_test['#11'] # coluna '#11' referente ao comprimento de onda 950\n",
        "x_test_x2 = x_test['#101'] # coluna '#101' referente ao comprimento de onda 1.400\n",
        "y_test_y = y_test['Umidade']\n",
        "print(x_test_x1)\n",
        "print(x_test_x2)\n",
        "print(y_test_y)"
      ],
      "execution_count": 114,
      "outputs": [
        {
          "output_type": "stream",
          "name": "stdout",
          "text": [
            "0      1.00196\n",
            "1      1.13546\n",
            "2      0.81914\n",
            "3      0.66567\n",
            "4      0.99374\n",
            "        ...   \n",
            "100    1.10281\n",
            "101    0.72179\n",
            "102    1.06652\n",
            "103    1.14968\n",
            "104    0.66578\n",
            "Name: #11, Length: 105, dtype: float64\n",
            "0      0.99993\n",
            "1      1.13780\n",
            "2      0.81327\n",
            "3      0.66455\n",
            "4      0.98829\n",
            "        ...   \n",
            "100    1.10176\n",
            "101    0.72350\n",
            "102    1.06690\n",
            "103    1.15051\n",
            "104    0.66450\n",
            "Name: #101, Length: 105, dtype: float64\n",
            "0      12.42\n",
            "1      14.21\n",
            "2      13.16\n",
            "3      13.20\n",
            "4      11.11\n",
            "       ...  \n",
            "100    14.22\n",
            "101    12.45\n",
            "102    14.50\n",
            "103    13.38\n",
            "104    13.13\n",
            "Name: Umidade, Length: 105, dtype: float64\n"
          ]
        }
      ]
    },
    {
      "cell_type": "code",
      "metadata": {
        "colab": {
          "base_uri": "https://localhost:8080/"
        },
        "id": "9klMY2G5CxMW",
        "outputId": "35bf9dca-974b-409f-a028-90bb735da0ab"
      },
      "source": [
        "# Preparar Datasets para Tratamento dos Dados\n",
        "x_train_inicial = x_train[['#11','#101']]\n",
        "x_test_inicial = x_test[['#11','#101']]\n",
        "\n",
        "# Criar Dataset X11, X101, Y para executar a limpeza de dados espúrios\n",
        "xy_train_inicial = pd.concat([x_train_x1, x_train_x2, y_train_y], join='inner', axis=1)\n",
        "print(xy_train_inicial)\n"
      ],
      "execution_count": 115,
      "outputs": [
        {
          "output_type": "stream",
          "name": "stdout",
          "text": [
            "         #11     #101  Umidade\n",
            "0    0.92998  0.92090    11.73\n",
            "1    0.70812  0.72601    12.55\n",
            "2    0.99820  0.99117    14.04\n",
            "3    0.69837  0.70594    14.30\n",
            "4    0.66644  0.66577    12.90\n",
            "..       ...      ...      ...\n",
            "207  0.85409  0.84702    12.98\n",
            "208  1.09879  1.09048    12.50\n",
            "209  0.67895  0.68114    12.96\n",
            "210  0.69872  0.70703    13.89\n",
            "211  1.10991  1.10379    13.42\n",
            "\n",
            "[212 rows x 3 columns]\n"
          ]
        }
      ]
    },
    {
      "cell_type": "code",
      "metadata": {
        "colab": {
          "base_uri": "https://localhost:8080/"
        },
        "id": "mHWNaTp08K0A",
        "outputId": "f44df50a-0b9b-487c-9c91-50d8306e8e82"
      },
      "source": [
        "# Executar Limpeza dos Dados espúrios\n",
        "xy_train_clean = xy_train_inicial.dropna(inplace=False)\n",
        "print(xy_train_inicial)\n",
        "print(xy_train_clean)\n"
      ],
      "execution_count": 116,
      "outputs": [
        {
          "output_type": "stream",
          "name": "stdout",
          "text": [
            "         #11     #101  Umidade\n",
            "0    0.92998  0.92090    11.73\n",
            "1    0.70812  0.72601    12.55\n",
            "2    0.99820  0.99117    14.04\n",
            "3    0.69837  0.70594    14.30\n",
            "4    0.66644  0.66577    12.90\n",
            "..       ...      ...      ...\n",
            "207  0.85409  0.84702    12.98\n",
            "208  1.09879  1.09048    12.50\n",
            "209  0.67895  0.68114    12.96\n",
            "210  0.69872  0.70703    13.89\n",
            "211  1.10991  1.10379    13.42\n",
            "\n",
            "[212 rows x 3 columns]\n",
            "         #11     #101  Umidade\n",
            "0    0.92998  0.92090    11.73\n",
            "1    0.70812  0.72601    12.55\n",
            "2    0.99820  0.99117    14.04\n",
            "3    0.69837  0.70594    14.30\n",
            "4    0.66644  0.66577    12.90\n",
            "..       ...      ...      ...\n",
            "207  0.85409  0.84702    12.98\n",
            "208  1.09879  1.09048    12.50\n",
            "209  0.67895  0.68114    12.96\n",
            "210  0.69872  0.70703    13.89\n",
            "211  1.10991  1.10379    13.42\n",
            "\n",
            "[211 rows x 3 columns]\n"
          ]
        }
      ]
    },
    {
      "cell_type": "code",
      "metadata": {
        "colab": {
          "base_uri": "https://localhost:8080/"
        },
        "id": "takJT-LihFPG",
        "outputId": "c0bce829-f18b-4a99-e5d0-f3198c690cd5"
      },
      "source": [
        "# Separar dados de treinamento, limpos em datasets X e Y\n",
        "x_train_clean = xy_train_clean[['#11','#101']]\n",
        "print(x_train_clean)\n",
        "y_train_clean = xy_train_clean[['Umidade']]\n",
        "print(y_train_clean)"
      ],
      "execution_count": 117,
      "outputs": [
        {
          "output_type": "stream",
          "name": "stdout",
          "text": [
            "         #11     #101\n",
            "0    0.92998  0.92090\n",
            "1    0.70812  0.72601\n",
            "2    0.99820  0.99117\n",
            "3    0.69837  0.70594\n",
            "4    0.66644  0.66577\n",
            "..       ...      ...\n",
            "207  0.85409  0.84702\n",
            "208  1.09879  1.09048\n",
            "209  0.67895  0.68114\n",
            "210  0.69872  0.70703\n",
            "211  1.10991  1.10379\n",
            "\n",
            "[211 rows x 2 columns]\n",
            "     Umidade\n",
            "0      11.73\n",
            "1      12.55\n",
            "2      14.04\n",
            "3      14.30\n",
            "4      12.90\n",
            "..       ...\n",
            "207    12.98\n",
            "208    12.50\n",
            "209    12.96\n",
            "210    13.89\n",
            "211    13.42\n",
            "\n",
            "[211 rows x 1 columns]\n"
          ]
        }
      ]
    },
    {
      "cell_type": "code",
      "metadata": {
        "colab": {
          "base_uri": "https://localhost:8080/"
        },
        "id": "khfmuyRpaq5V",
        "outputId": "03c3eb2a-1ff7-4b30-bb28-b1196b202971"
      },
      "source": [
        "# Executar Normalização dos Dados\n",
        "# No dataset de treinamento\n",
        "x_train_norm = (x_train_clean -x_train_clean.min())/(x_train_clean.max()-x_train_clean.min())\n",
        "print(x_train_norm)\n"
      ],
      "execution_count": 118,
      "outputs": [
        {
          "output_type": "stream",
          "name": "stdout",
          "text": [
            "          #11      #101\n",
            "0    0.599515  0.596314\n",
            "1    0.260994  0.295502\n",
            "2    0.703607  0.704776\n",
            "3    0.246117  0.264524\n",
            "4    0.197397  0.202522\n",
            "..        ...       ...\n",
            "207  0.483719  0.482281\n",
            "208  0.857091  0.858060\n",
            "209  0.216485  0.226246\n",
            "210  0.246651  0.266207\n",
            "211  0.874058  0.878604\n",
            "\n",
            "[211 rows x 2 columns]\n"
          ]
        }
      ]
    },
    {
      "cell_type": "code",
      "metadata": {
        "colab": {
          "base_uri": "https://localhost:8080/"
        },
        "id": "fc4ckdgeiBcu",
        "outputId": "d00590b0-6bf5-4201-b9d7-3329dbd814c5"
      },
      "source": [
        "# Executar Normalização dos Dados\n",
        "# No dataset de teste\n",
        "x_test_norm = (x_test_inicial -x_test_inicial.min())/(x_test_inicial.max()-x_test_inicial.min())\n",
        "print(x_test_norm)"
      ],
      "execution_count": 119,
      "outputs": [
        {
          "output_type": "stream",
          "name": "stdout",
          "text": [
            "          #11      #101\n",
            "0    0.625839  0.634786\n",
            "1    0.867227  0.886572\n",
            "2    0.295272  0.293898\n",
            "3    0.017774  0.022299\n",
            "4    0.610975  0.613529\n",
            "..        ...       ...\n",
            "100  0.808191  0.820754\n",
            "101  0.119248  0.129956\n",
            "102  0.742573  0.757090\n",
            "103  0.892939  0.909783\n",
            "104  0.017973  0.022207\n",
            "\n",
            "[105 rows x 2 columns]\n"
          ]
        }
      ]
    },
    {
      "cell_type": "code",
      "metadata": {
        "colab": {
          "base_uri": "https://localhost:8080/"
        },
        "id": "wD7fSOcsvAHd",
        "outputId": "ea9b7104-1b3e-4771-f69e-889824d6cffd"
      },
      "source": [
        "# Padronização do nome dos datasets\n",
        "x_train_final = x_train_norm\n",
        "y_train_final = y_train_clean\n",
        "x_test_final = x_test_norm\n",
        "y_test_final = y_test\n",
        "\n",
        "print(x_train_final)\n",
        "print(y_train_final)\n",
        "print(x_test_final)\n",
        "print(y_test_final)"
      ],
      "execution_count": 120,
      "outputs": [
        {
          "output_type": "stream",
          "name": "stdout",
          "text": [
            "          #11      #101\n",
            "0    0.599515  0.596314\n",
            "1    0.260994  0.295502\n",
            "2    0.703607  0.704776\n",
            "3    0.246117  0.264524\n",
            "4    0.197397  0.202522\n",
            "..        ...       ...\n",
            "207  0.483719  0.482281\n",
            "208  0.857091  0.858060\n",
            "209  0.216485  0.226246\n",
            "210  0.246651  0.266207\n",
            "211  0.874058  0.878604\n",
            "\n",
            "[211 rows x 2 columns]\n",
            "     Umidade\n",
            "0      11.73\n",
            "1      12.55\n",
            "2      14.04\n",
            "3      14.30\n",
            "4      12.90\n",
            "..       ...\n",
            "207    12.98\n",
            "208    12.50\n",
            "209    12.96\n",
            "210    13.89\n",
            "211    13.42\n",
            "\n",
            "[211 rows x 1 columns]\n",
            "          #11      #101\n",
            "0    0.625839  0.634786\n",
            "1    0.867227  0.886572\n",
            "2    0.295272  0.293898\n",
            "3    0.017774  0.022299\n",
            "4    0.610975  0.613529\n",
            "..        ...       ...\n",
            "100  0.808191  0.820754\n",
            "101  0.119248  0.129956\n",
            "102  0.742573  0.757090\n",
            "103  0.892939  0.909783\n",
            "104  0.017973  0.022207\n",
            "\n",
            "[105 rows x 2 columns]\n",
            "     Umidade\n",
            "0      12.42\n",
            "1      14.21\n",
            "2      13.16\n",
            "3      13.20\n",
            "4      11.11\n",
            "..       ...\n",
            "100    14.22\n",
            "101    12.45\n",
            "102    14.50\n",
            "103    13.38\n",
            "104    13.13\n",
            "\n",
            "[105 rows x 1 columns]\n"
          ]
        }
      ]
    },
    {
      "cell_type": "code",
      "metadata": {
        "colab": {
          "base_uri": "https://localhost:8080/"
        },
        "id": "LWZJoonTw6S5",
        "outputId": "7fe76713-938a-4865-c862-8508564d09fa"
      },
      "source": [
        "# Modelo de Regressão adotado: Linear Múltipla (Multiple Linear Regression)\n",
        "# Equação considerada para a solução: Umidade (%) = A + B*x(comprimento de onda 950) + C*x(comprimento de onda 1400)\n",
        "\n",
        "mlr = LinearRegression()  \n",
        "mlr.fit(x_train_final, y_train_final)\n",
        "\n",
        "print(\"Valor de A: \", mlr.intercept_)\n",
        "print(\"Coefficientes B e C:\")\n",
        "print(mlr.coef_)"
      ],
      "execution_count": 121,
      "outputs": [
        {
          "output_type": "stream",
          "name": "stdout",
          "text": [
            "Valor de A:  [12.74149017]\n",
            "Coefficientes B e C:\n",
            "[[-14.40268192  14.85180842]]\n"
          ]
        }
      ]
    },
    {
      "cell_type": "code",
      "metadata": {
        "colab": {
          "base_uri": "https://localhost:8080/"
        },
        "id": "pHYnUMvF0oFh",
        "outputId": "6ed4eb50-c8dd-4752-dabf-34feb086f674"
      },
      "source": [
        "# Predições para o dataset de teste\n",
        "y_pred= mlr.predict(x_test_final)\n",
        "\n",
        "print('Predições para os valores de teste')\n",
        "print(y_pred)"
      ],
      "execution_count": 124,
      "outputs": [
        {
          "output_type": "stream",
          "name": "stdout",
          "text": [
            "Predições para os valores de teste\n",
            "[[13.15546316]\n",
            " [13.41828398]\n",
            " [12.85371032]\n",
            " [12.81666791]\n",
            " [13.05381753]\n",
            " [12.79129087]\n",
            " [12.90430041]\n",
            " [13.33541124]\n",
            " [13.22296284]\n",
            " [12.8307388 ]\n",
            " [12.77441172]\n",
            " [12.99934009]\n",
            " [13.01668771]\n",
            " [12.81271161]\n",
            " [12.72026599]\n",
            " [13.15757118]\n",
            " [13.13852269]\n",
            " [13.33259269]\n",
            " [12.79979794]\n",
            " [12.98024094]\n",
            " [13.29652451]\n",
            " [13.50146656]\n",
            " [12.77599239]\n",
            " [12.6228008 ]\n",
            " [13.45842819]\n",
            " [12.62443125]\n",
            " [12.87897439]\n",
            " [13.11386672]\n",
            " [13.07524449]\n",
            " [13.3040291 ]\n",
            " [13.15236543]\n",
            " [12.8361158 ]\n",
            " [13.63480261]\n",
            " [12.91436157]\n",
            " [13.07543983]\n",
            " [13.01205609]\n",
            " [12.8011386 ]\n",
            " [13.12402252]\n",
            " [13.5104259 ]\n",
            " [13.26928859]\n",
            " [12.71563285]\n",
            " [12.78205267]\n",
            " [12.73482872]\n",
            " [13.58016379]\n",
            " [12.94157516]\n",
            " [12.97187271]\n",
            " [13.00911358]\n",
            " [13.00849885]\n",
            " [13.07074207]\n",
            " [13.44982005]\n",
            " [12.93928088]\n",
            " [13.11090679]\n",
            " [12.79928077]\n",
            " [12.71483303]\n",
            " [13.35253194]\n",
            " [13.06763252]\n",
            " [12.66990549]\n",
            " [12.99135016]\n",
            " [12.95308394]\n",
            " [13.01189563]\n",
            " [12.90956762]\n",
            " [12.80671005]\n",
            " [13.19061667]\n",
            " [12.68375013]\n",
            " [13.00285747]\n",
            " [12.82792686]\n",
            " [13.07761209]\n",
            " [13.03744236]\n",
            " [13.47558741]\n",
            " [12.92152364]\n",
            " [12.91930162]\n",
            " [12.80644792]\n",
            " [12.83979393]\n",
            " [12.90791167]\n",
            " [12.81176209]\n",
            " [12.8192544 ]\n",
            " [12.76547435]\n",
            " [13.55668371]\n",
            " [13.66386759]\n",
            " [12.89217665]\n",
            " [12.81705701]\n",
            " [12.93073758]\n",
            " [12.76318867]\n",
            " [13.27351567]\n",
            " [13.06508159]\n",
            " [12.81551674]\n",
            " [12.78756317]\n",
            " [12.79336242]\n",
            " [13.13432925]\n",
            " [12.740041  ]\n",
            " [13.13118486]\n",
            " [13.55130759]\n",
            " [13.10243609]\n",
            " [12.80646146]\n",
            " [13.01334213]\n",
            " [13.06452129]\n",
            " [12.95317902]\n",
            " [13.01059979]\n",
            " [12.63237303]\n",
            " [13.5359545 ]\n",
            " [13.29104702]\n",
            " [12.95408336]\n",
            " [13.29060922]\n",
            " [13.39269768]\n",
            " [12.8124471 ]]\n"
          ]
        }
      ]
    },
    {
      "cell_type": "code",
      "metadata": {
        "id": "E1aHn52s1POD"
      },
      "source": [
        "# Executar comparação dos valores Preditos com os reais - Etapa não realizada"
      ],
      "execution_count": null,
      "outputs": []
    },
    {
      "cell_type": "code",
      "metadata": {
        "id": "MZSvPG7vRooh"
      },
      "source": [
        "# Preparar gráficos para apresentação dos resultados - Etapa não realizada"
      ],
      "execution_count": null,
      "outputs": []
    },
    {
      "cell_type": "code",
      "metadata": {
        "id": "JXJ6UWIk8Gu7"
      },
      "source": [
        "# Preparar análise crítica dos resultados e identificar propostas de melhorias - Etapa não realizada"
      ],
      "execution_count": null,
      "outputs": []
    }
  ]
}